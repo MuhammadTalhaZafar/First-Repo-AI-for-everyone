{
 "cells": [
  {
   "cell_type": "code",
   "execution_count": 4,
   "id": "e6a00660",
   "metadata": {},
   "outputs": [
    {
     "name": "stdout",
     "output_type": "stream",
     "text": [
      "Institute Name: Saylani Mass IT Training Program\n",
      "Student full name: Muhammad Talha\n",
      "Course: AI & DS Batch-4\n",
      "Roll Number: 119866\n"
     ]
    }
   ],
   "source": [
    "first_name = \"Muhammad\"\n",
    "last_name = \"Talha\"\n",
    "institute_name = \"Saylani Mass IT Training Program\"\n",
    "course = \"AI & DS Batch-4\"\n",
    "roll_num = 119866\n",
    "\n",
    "print(\"Institute Name: \" +institute_name+ \"\\nStudent full name: \" +first_name+ \" \" +last_name+ \"\\nCourse: \"\n",
    "      +course+ \"\\nRoll Number: \" +str(roll_num))"
   ]
  },
  {
   "cell_type": "code",
   "execution_count": 10,
   "id": "06d824b9",
   "metadata": {},
   "outputs": [
    {
     "name": "stdout",
     "output_type": "stream",
     "text": [
      "Institute Name: Saylani Mass IT Training Program\n",
      "Student full name: Muhammad Talha\n",
      "Course: AI & DS Batch-4\n",
      "Roll Number: 119866\n"
     ]
    }
   ],
   "source": [
    "first_name = \"Muhammad\"\n",
    "last_name = \"Talha\"\n",
    "institute_name = \"Saylani Mass IT Training Program\"\n",
    "course = \"AI & DS Batch-4\"\n",
    "roll_num = 119866\n",
    "\n",
    "card = \"Institute Name: \" +institute_name+ \"\\nStudent full name: \" +first_name+ \" \" +last_name+ \"\\nCourse: \"+course+ \"\\nRoll Number: \" +str(roll_num)\n",
    "\n",
    "print(card)"
   ]
  },
  {
   "cell_type": "code",
   "execution_count": 13,
   "id": "080ffbdf",
   "metadata": {},
   "outputs": [
    {
     "name": "stdout",
     "output_type": "stream",
     "text": [
      "Institute Name: Saylani Mass IT Training Program\n",
      "Student Full Name: Muhammad Talha\n",
      "Course: AI & DS Batch-4\n",
      "Roll Number: 119866\n",
      "\n"
     ]
    }
   ],
   "source": [
    "# Concatination Method with **.format method**:\n",
    "\n",
    "first_name = \"Muhammad\"\n",
    "last_name = \"Talha\"\n",
    "institute_name = \"Saylani Mass IT Training Program\"\n",
    "course = \"AI & DS Batch-4\"\n",
    "roll_num = 119866\n",
    "\n",
    "card = \"\"\"Institute Name: {}\n",
    "Student Full Name: {} {}\n",
    "Course: {}\n",
    "Roll Number: {}\n",
    "\"\"\".format(institute_name, first_name,last_name,course,roll_num)\n",
    "\n",
    "print(card)"
   ]
  },
  {
   "cell_type": "code",
   "execution_count": 15,
   "id": "0e70ce42",
   "metadata": {},
   "outputs": [
    {
     "name": "stdout",
     "output_type": "stream",
     "text": [
      "Muhammad talha\n"
     ]
    }
   ],
   "source": [
    "# 1- capitalize Method.\n",
    "# The method returns a new string with the first character capitalized.\n",
    "\n",
    "\n",
    "name = \"muhammad talha\"\n",
    "print(name.capitalize())"
   ]
  },
  {
   "cell_type": "code",
   "execution_count": 18,
   "id": "cb53df09",
   "metadata": {},
   "outputs": [
    {
     "name": "stdout",
     "output_type": "stream",
     "text": [
      "muhammad talha\n"
     ]
    }
   ],
   "source": [
    "# 2- casefold Method.\n",
    "# The method returns a new string with all the alphabetic characters converted to lowercase.\n",
    "\n",
    "\n",
    "name = \"MUHAMMAD TALHA\"\n",
    "print(name.casefold())"
   ]
  },
  {
   "cell_type": "code",
   "execution_count": 21,
   "id": "463a88ce",
   "metadata": {},
   "outputs": [
    {
     "name": "stdout",
     "output_type": "stream",
     "text": [
      "                                 Muhammad Talha                                 \n"
     ]
    }
   ],
   "source": [
    "# 3- center Method.\n",
    "# Method returns a new string with the original string centered within the specified width\n",
    "\n",
    "\n",
    "name = \"Muhammad Talha\"\n",
    "print(name.center(80))"
   ]
  },
  {
   "cell_type": "code",
   "execution_count": 23,
   "id": "2c3ea377",
   "metadata": {},
   "outputs": [
    {
     "name": "stdout",
     "output_type": "stream",
     "text": [
      "2\n"
     ]
    }
   ],
   "source": [
    "# 4- count Method.\n",
    "# Returns the number of occurrences of the specified substring or character.\n",
    "\n",
    "\n",
    "name = \"Muhammad Talha\"\n",
    "print(name.count('m'))"
   ]
  },
  {
   "cell_type": "code",
   "execution_count": 25,
   "id": "c6c2fbc3",
   "metadata": {},
   "outputs": [
    {
     "name": "stdout",
     "output_type": "stream",
     "text": [
      "b'My name is St\\xc3\\xa5le'\n"
     ]
    }
   ],
   "source": [
    "# 5- encode method\n",
    "# Returns an encoded version of the original string.\n",
    "\n",
    "\n",
    "name = \"My name is Ståle\"\n",
    "print(name.encode())"
   ]
  },
  {
   "cell_type": "code",
   "execution_count": 26,
   "id": "8ecdf21b",
   "metadata": {},
   "outputs": [
    {
     "name": "stdout",
     "output_type": "stream",
     "text": [
      "True\n",
      "False\n"
     ]
    }
   ],
   "source": [
    "# 6- endswith method\n",
    "# Returns a boolean value indicating whether the string ends with a specified suffix or not.\n",
    "\n",
    "\n",
    "name = \"Muhammad Talha\"\n",
    "print(name.endswith('a'))\n",
    "print(name.endswith('t'))"
   ]
  },
  {
   "cell_type": "code",
   "execution_count": 28,
   "id": "08c06b80",
   "metadata": {},
   "outputs": [
    {
     "name": "stdout",
     "output_type": "stream",
     "text": [
      "Muhammad            Talha\n"
     ]
    }
   ],
   "source": [
    "# 7- expandtabs\n",
    "# Returns a copy of the string with all tab characters (\\t) replaced by one or more spaces.\n",
    "\n",
    "\n",
    "name = \"Muhammad \\tTalha\"\n",
    "print(name.expandtabs(20))"
   ]
  },
  {
   "cell_type": "code",
   "execution_count": 29,
   "id": "47dc198f",
   "metadata": {},
   "outputs": [
    {
     "name": "stdout",
     "output_type": "stream",
     "text": [
      "1\n",
      "9\n",
      "-1\n",
      "3\n"
     ]
    }
   ],
   "source": [
    "# 8- find method\n",
    "# Returns the lowest index in the string where a specified substring is found.\n",
    "\n",
    "\n",
    "name = \"Muhammad Talha\"\n",
    "print(name.find(\"u\"))\n",
    "print(name.find(\"T\"))\n",
    "print(name.find(\"t\"))\n",
    "print(name.find(\"a\"))"
   ]
  },
  {
   "cell_type": "code",
   "execution_count": 32,
   "id": "e02dfdb0",
   "metadata": {},
   "outputs": [
    {
     "name": "stdout",
     "output_type": "stream",
     "text": [
      "4\n",
      "11\n"
     ]
    },
    {
     "ename": "ValueError",
     "evalue": "substring not found",
     "output_type": "error",
     "traceback": [
      "\u001b[1;31m---------------------------------------------------------------------------\u001b[0m",
      "\u001b[1;31mValueError\u001b[0m                                Traceback (most recent call last)",
      "\u001b[1;32m~\\AppData\\Local\\Temp/ipykernel_9392/3231940628.py\u001b[0m in \u001b[0;36m<module>\u001b[1;34m\u001b[0m\n\u001b[0;32m      7\u001b[0m \u001b[0mprint\u001b[0m\u001b[1;33m(\u001b[0m\u001b[0mname\u001b[0m\u001b[1;33m.\u001b[0m\u001b[0mindex\u001b[0m\u001b[1;33m(\u001b[0m\u001b[1;34m'm'\u001b[0m\u001b[1;33m)\u001b[0m\u001b[1;33m)\u001b[0m\u001b[1;33m\u001b[0m\u001b[1;33m\u001b[0m\u001b[0m\n\u001b[0;32m      8\u001b[0m \u001b[0mprint\u001b[0m\u001b[1;33m(\u001b[0m\u001b[0mname\u001b[0m\u001b[1;33m.\u001b[0m\u001b[0mindex\u001b[0m\u001b[1;33m(\u001b[0m\u001b[1;34m'l'\u001b[0m\u001b[1;33m)\u001b[0m\u001b[1;33m)\u001b[0m\u001b[1;33m\u001b[0m\u001b[1;33m\u001b[0m\u001b[0m\n\u001b[1;32m----> 9\u001b[1;33m \u001b[0mprint\u001b[0m\u001b[1;33m(\u001b[0m\u001b[0mname\u001b[0m\u001b[1;33m.\u001b[0m\u001b[0mindex\u001b[0m\u001b[1;33m(\u001b[0m\u001b[1;34m'z'\u001b[0m\u001b[1;33m)\u001b[0m\u001b[1;33m)\u001b[0m\u001b[1;33m\u001b[0m\u001b[1;33m\u001b[0m\u001b[0m\n\u001b[0m",
      "\u001b[1;31mValueError\u001b[0m: substring not found"
     ]
    }
   ],
   "source": [
    "# 9- index Method\n",
    "# Index method is used to find the index of the first occurrence of a specified substring in a string.\n",
    "# It also returns value error \"substrings is not found\"\n",
    "\n",
    "\n",
    "name = \"Muhammad Talha\"\n",
    "print(name.index('m'))\n",
    "print(name.index('l'))\n",
    "print(name.index('z'))"
   ]
  },
  {
   "cell_type": "code",
   "execution_count": 33,
   "id": "f60fc89c",
   "metadata": {},
   "outputs": [
    {
     "name": "stdout",
     "output_type": "stream",
     "text": [
      "True\n",
      "False\n"
     ]
    }
   ],
   "source": [
    "# 10- isalnum Method\n",
    "# Used to check whether a string contains only alphanumeric characters or not.\n",
    "\n",
    "\n",
    "name = \"Talha1234\"\n",
    "name1 = \"@1234Talha\"\n",
    "print(name.isalnum())\n",
    "print(name1.isalnum())"
   ]
  },
  {
   "cell_type": "code",
   "execution_count": 34,
   "id": "27fa04d1",
   "metadata": {},
   "outputs": [
    {
     "name": "stdout",
     "output_type": "stream",
     "text": [
      "True\n",
      "False\n"
     ]
    }
   ],
   "source": [
    "# 11- isalpha Method\n",
    "# Used to check whether a string contains only alphabetic characters or not.\n",
    "\n",
    "\n",
    "name = \"abc\"\n",
    "name1 = \"1a2b3c\"\n",
    "print(name.isalpha())\n",
    "print(name1.isalpha())"
   ]
  },
  {
   "cell_type": "code",
   "execution_count": 36,
   "id": "c3bb03ac",
   "metadata": {},
   "outputs": [
    {
     "name": "stdout",
     "output_type": "stream",
     "text": [
      "True\n",
      "False\n"
     ]
    }
   ],
   "source": [
    "# 12- isascii Method\n",
    "# Used to check whether a string contains only ASCII characters or not.\n",
    "\n",
    "\n",
    "name = \"Pakistan\"\n",
    "name1 = \"¡Hello¡\"\n",
    "print(name.isascii())\n",
    "print(name1.isascii())"
   ]
  },
  {
   "cell_type": "code",
   "execution_count": 42,
   "id": "dca1d46b",
   "metadata": {},
   "outputs": [
    {
     "name": "stdout",
     "output_type": "stream",
     "text": [
      "True\n",
      "False\n"
     ]
    }
   ],
   "source": [
    "# 13- isdecimal Method\n",
    "# Used to check whether a string contains only decimal characters or not\n",
    "\n",
    "\n",
    "num1 = \"432\"\n",
    "num2 = \"15.26\"\n",
    "print(num1.isdecimal())\n",
    "print(num2.isdecimal())"
   ]
  },
  {
   "cell_type": "code",
   "execution_count": 43,
   "id": "f6056ab9",
   "metadata": {},
   "outputs": [
    {
     "name": "stdout",
     "output_type": "stream",
     "text": [
      "True\n",
      "False\n"
     ]
    }
   ],
   "source": [
    "# 14- isdigit Method\n",
    "# Used to check whether a string contains only digits or not.\n",
    "\n",
    "\n",
    "num1 = \"45279\"\n",
    "num2 = \"9.3264\"\n",
    "print(num1.isdigit())\n",
    "print(num2.isdigit())"
   ]
  },
  {
   "cell_type": "code",
   "execution_count": 46,
   "id": "efcf2a4b",
   "metadata": {},
   "outputs": [
    {
     "name": "stdout",
     "output_type": "stream",
     "text": [
      "True\n",
      "False\n"
     ]
    }
   ],
   "source": [
    "# 15- isidentifier\n",
    "# Used to check whether a string is a valid identifier or not.\n",
    "# An identifier is a sequence of characters in Python that represents a name, such as variable names, function names, class names, etc. \n",
    "# An identifier must follow certain rules, such as starting with a letter or underscore, and only containing letters, numbers, and underscores.\n",
    "\n",
    "name1 = \"pro_Pl\"\n",
    "name2 = \"23fyp1\"\n",
    "print(name1.isidentifier())\n",
    "print(name2.isidentifier())"
   ]
  },
  {
   "cell_type": "code",
   "execution_count": 47,
   "id": "9301b2fc",
   "metadata": {},
   "outputs": [
    {
     "name": "stdout",
     "output_type": "stream",
     "text": [
      "False\n",
      "True\n"
     ]
    }
   ],
   "source": [
    "# 16- islower Method\n",
    "# Used to check whether all the characters in a string are lowercase or not.\n",
    "\n",
    "name1 = \"Muhammad\"\n",
    "name2 = \"talha\"\n",
    "print(name1.islower())\n",
    "print(name2.islower())"
   ]
  },
  {
   "cell_type": "code",
   "execution_count": 48,
   "id": "c12bae49",
   "metadata": {},
   "outputs": [
    {
     "name": "stdout",
     "output_type": "stream",
     "text": [
      "True\n",
      "False\n"
     ]
    }
   ],
   "source": [
    "# 17- isnumeric\n",
    "# Used to check whether all the characters in a string are numeric characters or not.\n",
    "\n",
    "\n",
    "num1 = \"753698\"\n",
    "num2 = \"4.216\"\n",
    "print(num1.isnumeric())\n",
    "print(num2.isnumeric())"
   ]
  },
  {
   "cell_type": "code",
   "execution_count": 1,
   "id": "2d4ae307",
   "metadata": {},
   "outputs": [
    {
     "name": "stdout",
     "output_type": "stream",
     "text": [
      "True\n",
      "False\n"
     ]
    }
   ],
   "source": [
    "# 18-isprintable Method\n",
    "# used to check whether all the characters in a string are printable or not.\n",
    "\n",
    "n = \"Hellow World\"\n",
    "m = \"Hellow \\n World\"\n",
    "print(n.isprintable())\n",
    "print(m.isprintable())\n"
   ]
  },
  {
   "cell_type": "code",
   "execution_count": 2,
   "id": "512c9881",
   "metadata": {},
   "outputs": [
    {
     "name": "stdout",
     "output_type": "stream",
     "text": [
      "False\n",
      "True\n",
      "False\n"
     ]
    }
   ],
   "source": [
    "# 19-isspace Method\n",
    "# used to check whether all the characters in a string are whitespace characters or not.\n",
    "\n",
    "n = \"Hellow World\"\n",
    "m = \"\\t\\n\"\n",
    "p = \"\"\n",
    "\n",
    "print(n.isspace())\n",
    "print(m.isspace())\n",
    "print(p.isspace())\n"
   ]
  },
  {
   "cell_type": "code",
   "execution_count": 3,
   "id": "dc9a8f87",
   "metadata": {},
   "outputs": [
    {
     "name": "stdout",
     "output_type": "stream",
     "text": [
      "True\n",
      "False\n"
     ]
    }
   ],
   "source": [
    "# 20-istitle Method\n",
    "# used to check whether a string is a titlecased string or not.\n",
    "# A titlecased string is a string where the first letter of each word is capitalized and all other letters are lowercase.\n",
    "\n",
    "n = \"The Pakistan\"\n",
    "m = \"the pakistan\"\n",
    "\n",
    "print(n.istitle())\n",
    "print(m.istitle())\n"
   ]
  },
  {
   "cell_type": "code",
   "execution_count": 5,
   "id": "5359db26",
   "metadata": {},
   "outputs": [
    {
     "name": "stdout",
     "output_type": "stream",
     "text": [
      "False\n",
      "True\n"
     ]
    }
   ],
   "source": [
    "# 21-isupper Method\n",
    "# used to check whether all the alphabetic characters in a string are uppercase or not.\n",
    "\n",
    "n = \"hellow world\"\n",
    "m = \"HELLOW WORLD\"\n",
    "\n",
    "print(n.isupper())\n",
    "print(m.isupper())\n"
   ]
  },
  {
   "cell_type": "code",
   "execution_count": 6,
   "id": "f65b7e27",
   "metadata": {},
   "outputs": [
    {
     "name": "stdout",
     "output_type": "stream",
     "text": [
      "P,a,k,i,s,t,a,n\n"
     ]
    }
   ],
   "source": [
    "# 22-join Method\n",
    "# used to join a sequence of strings together into a single string, using a specified separator string.\n",
    "\n",
    "separator = \",\"\n",
    "name = \"Pakistan\"\n",
    "\n",
    "print(separator.join(name))\n"
   ]
  },
  {
   "cell_type": "code",
   "execution_count": 18,
   "id": "ecc48ebb",
   "metadata": {},
   "outputs": [
    {
     "name": "stdout",
     "output_type": "stream",
     "text": [
      "Hi!!!!!!!!\n"
     ]
    }
   ],
   "source": [
    "# 23-ljust Method\n",
    "# used to left justify a string within a specified width by padding it with a specified character on the right.\n",
    "\n",
    "name = \"Hi\"\n",
    "print(name.ljust(10,'!'))\n"
   ]
  },
  {
   "cell_type": "code",
   "execution_count": 8,
   "id": "995a47dc",
   "metadata": {},
   "outputs": [
    {
     "name": "stdout",
     "output_type": "stream",
     "text": [
      "muhammad talha\n"
     ]
    }
   ],
   "source": [
    "# 24-lower Method\n",
    "# used to convert all the alphabetic characters in a string to lowercase.\n",
    "\n",
    "name = \"Muhammad Talha\"\n",
    "print(name.lower())\n"
   ]
  },
  {
   "cell_type": "code",
   "execution_count": 9,
   "id": "f3fd195d",
   "metadata": {},
   "outputs": [
    {
     "name": "stdout",
     "output_type": "stream",
     "text": [
      "Muhammad Talha Zafar    !!\n"
     ]
    }
   ],
   "source": [
    "# 25-lstrip Method\n",
    "# used to remove leading whitespace characters from a string.\n",
    "\n",
    "name = \"    Muhammad Talha Zafar    !!\"\n",
    "print(name.lstrip())\n"
   ]
  },
  {
   "cell_type": "code",
   "execution_count": 17,
   "id": "01e22901",
   "metadata": {},
   "outputs": [
    {
     "name": "stdout",
     "output_type": "stream",
     "text": [
      "Hi! Wrld\n"
     ]
    }
   ],
   "source": [
    "# 26-maketrans Method\n",
    "# used to create a translation table that can be used by the translate() method to replace specified characters in a string.\n",
    "\n",
    "name = \"Hey World\"\n",
    "n = name.maketrans('ey','i!','o')\n",
    "m = name.translate(n)\n",
    "print(m)\n"
   ]
  },
  {
   "cell_type": "code",
   "execution_count": 12,
   "id": "6118ee10",
   "metadata": {},
   "outputs": [
    {
     "name": "stdout",
     "output_type": "stream",
     "text": [
      "('Welcome', ',', ' Mr.Talha')\n"
     ]
    }
   ],
   "source": [
    "# 27-partition Method\n",
    "# used to split a string into three parts based on a specified separator.\n",
    "\n",
    "name = \"Welcome, Mr.Talha\"\n",
    "print(name.partition(','))"
   ]
  },
  {
   "cell_type": "code",
   "execution_count": 13,
   "id": "480d396d",
   "metadata": {},
   "outputs": [
    {
     "name": "stdout",
     "output_type": "stream",
     "text": [
      " World\n"
     ]
    }
   ],
   "source": [
    "# 28-removeprefix Method\n",
    "# used to remove a specified prefix from a string(If start with specified string).\n",
    "\n",
    "name = \"Hey World\"\n",
    "print(name.removeprefix('Hey'))\n"
   ]
  },
  {
   "cell_type": "code",
   "execution_count": 19,
   "id": "cba73aee",
   "metadata": {},
   "outputs": [
    {
     "name": "stdout",
     "output_type": "stream",
     "text": [
      "Hey \n"
     ]
    }
   ],
   "source": [
    "# 29-removesuffix Method\n",
    "# used to remove a specified suffix from a string. \n",
    "# If the string ends with the specified suffix, the suffix is removed and the modified string is returned.\n",
    "\n",
    "name = \"Hey World\"\n",
    "print(name.removesuffix(\"World\"))\n"
   ]
  },
  {
   "cell_type": "code",
   "execution_count": 21,
   "id": "2bae95ef",
   "metadata": {},
   "outputs": [
    {
     "name": "stdout",
     "output_type": "stream",
     "text": [
      "Hey Universe\n"
     ]
    }
   ],
   "source": [
    "# 30-replace Method\n",
    "# used to replace all occurrences of a specified substring in a string with another substring.\n",
    "\n",
    "name = \"Hey World\"\n",
    "print(name.replace(\"World\",\"Universe\"))\n"
   ]
  },
  {
   "cell_type": "code",
   "execution_count": 22,
   "id": "20e6a7f2",
   "metadata": {},
   "outputs": [
    {
     "name": "stdout",
     "output_type": "stream",
     "text": [
      "5\n",
      "1\n",
      "-1\n"
     ]
    }
   ],
   "source": [
    "# 31-rfind Method\n",
    "# returns the highest index in the string where a specified substring is found. \n",
    "# The method searches the string from right to left, starting from the specified position, and returns -1 if the substring is not found.\n",
    "\n",
    "name = \"Hey World\"\n",
    "print(name.rfind(\"o\"))\n",
    "print(name.rfind(\"e\"))\n",
    "print(name.rfind(\"z\"))"
   ]
  },
  {
   "cell_type": "code",
   "execution_count": 23,
   "id": "24c1d1e8",
   "metadata": {},
   "outputs": [
    {
     "name": "stdout",
     "output_type": "stream",
     "text": [
      "7\n",
      "1\n"
     ]
    },
    {
     "ename": "ValueError",
     "evalue": "substring not found",
     "output_type": "error",
     "traceback": [
      "\u001b[1;31m---------------------------------------------------------------------------\u001b[0m",
      "\u001b[1;31mValueError\u001b[0m                                Traceback (most recent call last)",
      "Cell \u001b[1;32mIn[23], line 7\u001b[0m\n\u001b[0;32m      5\u001b[0m \u001b[38;5;28mprint\u001b[39m(name\u001b[38;5;241m.\u001b[39mrindex(\u001b[38;5;124m\"\u001b[39m\u001b[38;5;124mo\u001b[39m\u001b[38;5;124m\"\u001b[39m))\n\u001b[0;32m      6\u001b[0m \u001b[38;5;28mprint\u001b[39m(name\u001b[38;5;241m.\u001b[39mrindex(\u001b[38;5;124m\"\u001b[39m\u001b[38;5;124me\u001b[39m\u001b[38;5;124m\"\u001b[39m))\n\u001b[1;32m----> 7\u001b[0m \u001b[38;5;28mprint\u001b[39m(\u001b[43mname\u001b[49m\u001b[38;5;241;43m.\u001b[39;49m\u001b[43mrindex\u001b[49m\u001b[43m(\u001b[49m\u001b[38;5;124;43m\"\u001b[39;49m\u001b[38;5;124;43mz\u001b[39;49m\u001b[38;5;124;43m\"\u001b[39;49m\u001b[43m)\u001b[49m)\n",
      "\u001b[1;31mValueError\u001b[0m: substring not found"
     ]
    }
   ],
   "source": [
    "# 32-rindex Method\n",
    "# similar to the rfind() method, but instead of returning -1 when the substring is not found, it raises a ValueError exception.\n",
    "\n",
    "name = \"Hello World\"\n",
    "print(name.rindex(\"o\"))\n",
    "print(name.rindex(\"e\"))\n",
    "print(name.rindex(\"z\"))\n"
   ]
  },
  {
   "cell_type": "code",
   "execution_count": 25,
   "id": "85f13241",
   "metadata": {},
   "outputs": [
    {
     "name": "stdout",
     "output_type": "stream",
     "text": [
      "     Hey!!\n",
      "-----Hey!!\n"
     ]
    }
   ],
   "source": [
    "# 33-rjust Method\n",
    "# returns a right-justified version of a given string by padding it with a specified character (or space) on the left side. \n",
    "# This method returns a new string and does not modify the original string.\n",
    "\n",
    "name = \"Hey!!\"\n",
    "print(name.rjust(10))\n",
    "print(name.rjust(10,'-'))"
   ]
  },
  {
   "cell_type": "code",
   "execution_count": 28,
   "id": "b90df556",
   "metadata": {},
   "outputs": [
    {
     "name": "stdout",
     "output_type": "stream",
     "text": [
      "('apple,banana,grapes,watermelon', ',', 'mango')\n"
     ]
    }
   ],
   "source": [
    "# 34-rpartition Method\n",
    "# separates the given string into three parts using a separator (also called a delimiter) specified as an argument. \n",
    "# The separation occurs from the right side of the string.\n",
    "\n",
    "n = \"apple,banana,grapes,watermelon,mango\"\n",
    "print(n.rpartition(\",\"))"
   ]
  },
  {
   "cell_type": "code",
   "execution_count": 29,
   "id": "33c4f64e",
   "metadata": {},
   "outputs": [
    {
     "name": "stdout",
     "output_type": "stream",
     "text": [
      "['Hey', 'World!!']\n"
     ]
    }
   ],
   "source": [
    "# 35-rsplit Method\n",
    "# splits a given string into a list of substrings, starting from the right side of the string, using a specified separator (also called a delimiter). \n",
    "# If no separator is specified, the method splits the string at whitespace characters (spaces, tabs, and newlines)\n",
    "\n",
    "name = \"Hey World!!\"\n",
    "print(name.rsplit())"
   ]
  },
  {
   "cell_type": "code",
   "execution_count": 31,
   "id": "16d5e6e1",
   "metadata": {},
   "outputs": [
    {
     "name": "stdout",
     "output_type": "stream",
     "text": [
      "Hey!! World\n"
     ]
    }
   ],
   "source": [
    "# 36-rstrip Method\n",
    "# returns a new string with trailing whitespace characters (spaces, tabs, and newlines) removed from the right side of the original string.\n",
    "\n",
    "name = \"Hey!! World!!\"\n",
    "print(name.rstrip('!'))"
   ]
  },
  {
   "cell_type": "code",
   "execution_count": 33,
   "id": "3710a8d0",
   "metadata": {},
   "outputs": [
    {
     "name": "stdout",
     "output_type": "stream",
     "text": [
      "['Hey', 'World!']\n"
     ]
    }
   ],
   "source": [
    "# 37-split Method\n",
    "# splits a given string into a list of substrings, using a specified separator (also called a delimiter). If no separator is specified, the method splits the string at whitespace characters (spaces, tabs, and newlines).\n",
    "\n",
    "name = \"   Hey World!  \"\n",
    "print(name.split())"
   ]
  },
  {
   "cell_type": "code",
   "execution_count": 35,
   "id": "5e758e06",
   "metadata": {},
   "outputs": [
    {
     "name": "stdout",
     "output_type": "stream",
     "text": [
      "['Hey', 'World', 'Goodmorning']\n"
     ]
    }
   ],
   "source": [
    "# 38-splitlines Method\n",
    "# splits a given string into a list of substrings, using the newline character(s) (\\n, \\r, and \\r\\n) as the delimiter.\n",
    "\n",
    "name = \"Hey\\nWorld\\nGoodmorning\"\n",
    "print(name.splitlines())"
   ]
  },
  {
   "cell_type": "code",
   "execution_count": 36,
   "id": "830c31c9",
   "metadata": {},
   "outputs": [
    {
     "name": "stdout",
     "output_type": "stream",
     "text": [
      "True\n",
      "False\n"
     ]
    }
   ],
   "source": [
    "# 39-startswith Method\n",
    "# returns a boolean value indicating whether a given string starts with a specified prefix.\n",
    "\n",
    "name = \"Muhammad Talha\"\n",
    "print(name.startswith('Muhammad'))\n",
    "print(name.startswith('Talha'))"
   ]
  },
  {
   "cell_type": "code",
   "execution_count": 38,
   "id": "6f27dc32",
   "metadata": {},
   "outputs": [
    {
     "name": "stdout",
     "output_type": "stream",
     "text": [
      "Muhammad Talha Zafar\n"
     ]
    }
   ],
   "source": [
    "# 40-strip Method\n",
    "# returns a new string with any leading or trailing whitespace removed.\n",
    "\n",
    "name = \"   \\t\\nMuhammad Talha Zafar  \"\n",
    "print(name.strip())"
   ]
  },
  {
   "cell_type": "code",
   "execution_count": 41,
   "id": "1b0905d5",
   "metadata": {},
   "outputs": [
    {
     "name": "stdout",
     "output_type": "stream",
     "text": [
      "mUhAmmAD TALha\n",
      "hEY world\n"
     ]
    }
   ],
   "source": [
    "# 41-swapcase Method\n",
    "# returns a new string where all the uppercase characters are converted to lowercase and vice versa\n",
    "\n",
    "name = \"MuHaMMad talHA\"\n",
    "print(name.swapcase())\n",
    "\n",
    "n = \"Hey WORLD\"\n",
    "print(n.swapcase())"
   ]
  },
  {
   "cell_type": "code",
   "execution_count": 43,
   "id": "9fe9688d",
   "metadata": {},
   "outputs": [
    {
     "name": "stdout",
     "output_type": "stream",
     "text": [
      "Muhammad Talha\n"
     ]
    }
   ],
   "source": [
    "# 42-title Method\n",
    "# returns a new string with the first character of each word in uppercase and the rest of the characters in lowercase.\n",
    "\n",
    "name = \"muhammad talha\"\n",
    "print(name.title())"
   ]
  },
  {
   "cell_type": "code",
   "execution_count": 44,
   "id": "d2f0691f",
   "metadata": {},
   "outputs": [
    {
     "name": "stdout",
     "output_type": "stream",
     "text": [
      "Hipp Wrpd\n"
     ]
    }
   ],
   "source": [
    "# 43-translate Method\n",
    "# returns a string where some specified characters are replaced with the character described in a dictionary, or in a mapping table.\n",
    "\n",
    "name = \"Hello World\"\n",
    "n = name.maketrans('el','ip','o')\n",
    "m = name.translate(n)\n",
    "print(m)"
   ]
  },
  {
   "cell_type": "code",
   "execution_count": 46,
   "id": "6f7bb62a",
   "metadata": {},
   "outputs": [
    {
     "name": "stdout",
     "output_type": "stream",
     "text": [
      "MUHAMMAD TALHA\n"
     ]
    }
   ],
   "source": [
    "# 44-upper Method\n",
    "# returns a new string with all the characters converted to uppercase.\n",
    "\n",
    "name = \"muhammad talha\"\n",
    "print(name.upper())"
   ]
  },
  {
   "cell_type": "code",
   "execution_count": 51,
   "id": "40dbffa2",
   "metadata": {},
   "outputs": [
    {
     "name": "stdout",
     "output_type": "stream",
     "text": [
      "00000Talha\n"
     ]
    }
   ],
   "source": [
    "# 45-zfill Method\n",
    "# returns a new string with zeros (0) added to the left side of a string until it reaches a specified length.\n",
    "\n",
    "name = \"Talha\"\n",
    "print(name.zfill(10))  # It added 3 zeros to left to complete the total length of 10 charachters"
   ]
  },
  {
   "cell_type": "code",
   "execution_count": null,
   "id": "4eb83eb4",
   "metadata": {},
   "outputs": [],
   "source": []
  }
 ],
 "metadata": {
  "kernelspec": {
   "display_name": "Python 3 (ipykernel)",
   "language": "python",
   "name": "python3"
  },
  "language_info": {
   "codemirror_mode": {
    "name": "ipython",
    "version": 3
   },
   "file_extension": ".py",
   "mimetype": "text/x-python",
   "name": "python",
   "nbconvert_exporter": "python",
   "pygments_lexer": "ipython3",
   "version": "3.10.9"
  }
 },
 "nbformat": 4,
 "nbformat_minor": 5
}
